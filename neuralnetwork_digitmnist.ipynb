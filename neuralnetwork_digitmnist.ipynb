{
  "metadata": {
    "kernelspec": {
      "language": "python",
      "display_name": "Python 3",
      "name": "python3"
    },
    "language_info": {
      "name": "python",
      "version": "3.10.13",
      "mimetype": "text/x-python",
      "codemirror_mode": {
        "name": "ipython",
        "version": 3
      },
      "pygments_lexer": "ipython3",
      "nbconvert_exporter": "python",
      "file_extension": ".py"
    },
    "kaggle": {
      "accelerator": "none",
      "dataSources": [
        {
          "sourceId": 3004,
          "databundleVersionId": 861823,
          "sourceType": "competition"
        }
      ],
      "dockerImageVersionId": 30746,
      "isInternetEnabled": false,
      "language": "python",
      "sourceType": "notebook",
      "isGpuEnabled": false
    },
    "colab": {
      "provenance": [],
      "include_colab_link": true
    }
  },
  "nbformat_minor": 0,
  "nbformat": 4,
  "cells": [
    {
      "cell_type": "markdown",
      "metadata": {
        "id": "view-in-github",
        "colab_type": "text"
      },
      "source": [
        "<a href=\"https://colab.research.google.com/github/SSTalha/Neuralnetwork-digitmnist/blob/main/neuralnetwork_digitmnist.ipynb\" target=\"_parent\"><img src=\"https://colab.research.google.com/assets/colab-badge.svg\" alt=\"Open In Colab\"/></a>"
      ]
    },
    {
      "cell_type": "code",
      "source": [
        "import numpy as np\n",
        "import pandas as pd\n",
        "from matplotlib import pyplot as plt\n",
        "\n",
        "data = pd.read_csv('/kaggle/input/digit-recognizer/train.csv')"
      ],
      "metadata": {
        "_uuid": "8f2839f25d086af736a60e9eeb907d3b93b6e0e5",
        "_cell_guid": "b1076dfc-b9ad-4769-8c92-a6c4dae69d19",
        "execution": {
          "iopub.status.busy": "2024-07-31T12:05:42.004615Z",
          "iopub.execute_input": "2024-07-31T12:05:42.005670Z",
          "iopub.status.idle": "2024-07-31T12:05:45.567851Z",
          "shell.execute_reply.started": "2024-07-31T12:05:42.005624Z",
          "shell.execute_reply": "2024-07-31T12:05:45.566439Z"
        },
        "trusted": true,
        "id": "n1K3qP9iw2vq"
      },
      "execution_count": null,
      "outputs": []
    },
    {
      "cell_type": "code",
      "source": [
        "data.head()"
      ],
      "metadata": {
        "execution": {
          "iopub.status.busy": "2024-07-31T12:05:45.570038Z",
          "iopub.execute_input": "2024-07-31T12:05:45.570427Z",
          "iopub.status.idle": "2024-07-31T12:05:45.594945Z",
          "shell.execute_reply.started": "2024-07-31T12:05:45.570393Z",
          "shell.execute_reply": "2024-07-31T12:05:45.593395Z"
        },
        "trusted": true,
        "id": "mYsy48_Kw2vy",
        "outputId": "cae74f60-b1cc-48c1-9613-2e200b8903ec"
      },
      "execution_count": null,
      "outputs": [
        {
          "execution_count": 9,
          "output_type": "execute_result",
          "data": {
            "text/plain": "   label  pixel0  pixel1  pixel2  pixel3  pixel4  pixel5  pixel6  pixel7  \\\n0      1       0       0       0       0       0       0       0       0   \n1      0       0       0       0       0       0       0       0       0   \n2      1       0       0       0       0       0       0       0       0   \n3      4       0       0       0       0       0       0       0       0   \n4      0       0       0       0       0       0       0       0       0   \n\n   pixel8  ...  pixel774  pixel775  pixel776  pixel777  pixel778  pixel779  \\\n0       0  ...         0         0         0         0         0         0   \n1       0  ...         0         0         0         0         0         0   \n2       0  ...         0         0         0         0         0         0   \n3       0  ...         0         0         0         0         0         0   \n4       0  ...         0         0         0         0         0         0   \n\n   pixel780  pixel781  pixel782  pixel783  \n0         0         0         0         0  \n1         0         0         0         0  \n2         0         0         0         0  \n3         0         0         0         0  \n4         0         0         0         0  \n\n[5 rows x 785 columns]",
            "text/html": "<div>\n<style scoped>\n    .dataframe tbody tr th:only-of-type {\n        vertical-align: middle;\n    }\n\n    .dataframe tbody tr th {\n        vertical-align: top;\n    }\n\n    .dataframe thead th {\n        text-align: right;\n    }\n</style>\n<table border=\"1\" class=\"dataframe\">\n  <thead>\n    <tr style=\"text-align: right;\">\n      <th></th>\n      <th>label</th>\n      <th>pixel0</th>\n      <th>pixel1</th>\n      <th>pixel2</th>\n      <th>pixel3</th>\n      <th>pixel4</th>\n      <th>pixel5</th>\n      <th>pixel6</th>\n      <th>pixel7</th>\n      <th>pixel8</th>\n      <th>...</th>\n      <th>pixel774</th>\n      <th>pixel775</th>\n      <th>pixel776</th>\n      <th>pixel777</th>\n      <th>pixel778</th>\n      <th>pixel779</th>\n      <th>pixel780</th>\n      <th>pixel781</th>\n      <th>pixel782</th>\n      <th>pixel783</th>\n    </tr>\n  </thead>\n  <tbody>\n    <tr>\n      <th>0</th>\n      <td>1</td>\n      <td>0</td>\n      <td>0</td>\n      <td>0</td>\n      <td>0</td>\n      <td>0</td>\n      <td>0</td>\n      <td>0</td>\n      <td>0</td>\n      <td>0</td>\n      <td>...</td>\n      <td>0</td>\n      <td>0</td>\n      <td>0</td>\n      <td>0</td>\n      <td>0</td>\n      <td>0</td>\n      <td>0</td>\n      <td>0</td>\n      <td>0</td>\n      <td>0</td>\n    </tr>\n    <tr>\n      <th>1</th>\n      <td>0</td>\n      <td>0</td>\n      <td>0</td>\n      <td>0</td>\n      <td>0</td>\n      <td>0</td>\n      <td>0</td>\n      <td>0</td>\n      <td>0</td>\n      <td>0</td>\n      <td>...</td>\n      <td>0</td>\n      <td>0</td>\n      <td>0</td>\n      <td>0</td>\n      <td>0</td>\n      <td>0</td>\n      <td>0</td>\n      <td>0</td>\n      <td>0</td>\n      <td>0</td>\n    </tr>\n    <tr>\n      <th>2</th>\n      <td>1</td>\n      <td>0</td>\n      <td>0</td>\n      <td>0</td>\n      <td>0</td>\n      <td>0</td>\n      <td>0</td>\n      <td>0</td>\n      <td>0</td>\n      <td>0</td>\n      <td>...</td>\n      <td>0</td>\n      <td>0</td>\n      <td>0</td>\n      <td>0</td>\n      <td>0</td>\n      <td>0</td>\n      <td>0</td>\n      <td>0</td>\n      <td>0</td>\n      <td>0</td>\n    </tr>\n    <tr>\n      <th>3</th>\n      <td>4</td>\n      <td>0</td>\n      <td>0</td>\n      <td>0</td>\n      <td>0</td>\n      <td>0</td>\n      <td>0</td>\n      <td>0</td>\n      <td>0</td>\n      <td>0</td>\n      <td>...</td>\n      <td>0</td>\n      <td>0</td>\n      <td>0</td>\n      <td>0</td>\n      <td>0</td>\n      <td>0</td>\n      <td>0</td>\n      <td>0</td>\n      <td>0</td>\n      <td>0</td>\n    </tr>\n    <tr>\n      <th>4</th>\n      <td>0</td>\n      <td>0</td>\n      <td>0</td>\n      <td>0</td>\n      <td>0</td>\n      <td>0</td>\n      <td>0</td>\n      <td>0</td>\n      <td>0</td>\n      <td>0</td>\n      <td>...</td>\n      <td>0</td>\n      <td>0</td>\n      <td>0</td>\n      <td>0</td>\n      <td>0</td>\n      <td>0</td>\n      <td>0</td>\n      <td>0</td>\n      <td>0</td>\n      <td>0</td>\n    </tr>\n  </tbody>\n</table>\n<p>5 rows × 785 columns</p>\n</div>"
          },
          "metadata": {}
        }
      ]
    },
    {
      "cell_type": "code",
      "source": [
        "data = np.array(data)\n",
        "m, n = data.shape\n",
        "np.random.shuffle(data) # shuffle before splitting into dev and training sets\n",
        "\n",
        "data_dev = data[0:2000].T\n",
        "Y_dev = data_dev[0]\n",
        "X_dev = data_dev[1:n]\n",
        "X_dev = X_dev / 255.\n",
        "\n",
        "data_train = data[2000:m].T\n",
        "Y_train = data_train[0]\n",
        "X_train = data_train[1:n]\n",
        "X_train = X_train / 255.\n",
        "_,m_train = X_train.shape"
      ],
      "metadata": {
        "execution": {
          "iopub.status.busy": "2024-07-31T12:05:45.596752Z",
          "iopub.execute_input": "2024-07-31T12:05:45.597176Z",
          "iopub.status.idle": "2024-07-31T12:05:46.611595Z",
          "shell.execute_reply.started": "2024-07-31T12:05:45.597138Z",
          "shell.execute_reply": "2024-07-31T12:05:46.610383Z"
        },
        "trusted": true,
        "id": "-QqlFVGxw2v1"
      },
      "execution_count": null,
      "outputs": []
    },
    {
      "cell_type": "code",
      "source": [
        "print(Y_train)\n",
        "X_train[:,0].shape\n"
      ],
      "metadata": {
        "execution": {
          "iopub.status.busy": "2024-07-31T12:05:46.617144Z",
          "iopub.execute_input": "2024-07-31T12:05:46.617824Z",
          "iopub.status.idle": "2024-07-31T12:05:46.627128Z",
          "shell.execute_reply.started": "2024-07-31T12:05:46.617773Z",
          "shell.execute_reply": "2024-07-31T12:05:46.625715Z"
        },
        "trusted": true,
        "id": "5XMMtL3Hw2v4",
        "outputId": "b006ae5c-adbb-4e42-d847-022d6c8218b2"
      },
      "execution_count": null,
      "outputs": [
        {
          "name": "stdout",
          "text": "[9 0 8 ... 4 6 0]\n",
          "output_type": "stream"
        },
        {
          "execution_count": 11,
          "output_type": "execute_result",
          "data": {
            "text/plain": "(784,)"
          },
          "metadata": {}
        }
      ]
    },
    {
      "cell_type": "code",
      "source": [
        "def init_params():\n",
        "    W1 = np.random.rand(128, 784) - 0.5  # First hidden layer\n",
        "    b1 = np.random.rand(128, 1) - 0.5\n",
        "    W2 = np.random.rand(64, 128) - 0.5  # Second hidden layer (new layer)\n",
        "    b2 = np.random.rand(64, 1) - 0.5\n",
        "    W3 = np.random.rand(10, 64) - 0.5   # Output layer\n",
        "    b3 = np.random.rand(10, 1) - 0.5\n",
        "    return W1, b1, W2, b2, W3, b3\n",
        "\n",
        "def ReLU(Z):\n",
        "    return np.maximum(Z, 0)\n",
        "\n",
        "def softmax(Z):\n",
        "    A = np.exp(Z) / sum(np.exp(Z))\n",
        "    return A\n",
        "\n",
        "def forward_prop(W1, b1, W2, b2, W3, b3, X):\n",
        "    Z1 = W1.dot(X) + b1\n",
        "    A1 = ReLU(Z1)\n",
        "    Z2 = W2.dot(A1) + b2\n",
        "    A2 = ReLU(Z2)\n",
        "    Z3 = W3.dot(A2) + b3\n",
        "    A3 = softmax(Z3)\n",
        "    return Z1, A1, Z2, A2, Z3, A3\n",
        "\n",
        "def ReLU_deriv(Z):\n",
        "    return Z > 0\n",
        "\n",
        "def one_hot(Y):\n",
        "    one_hot_Y = np.zeros((Y.size, Y.max() + 1))\n",
        "    one_hot_Y[np.arange(Y.size), Y] = 1\n",
        "    one_hot_Y = one_hot_Y.T\n",
        "    return one_hot_Y\n",
        "\n",
        "def backward_prop(Z1, A1, Z2, A2, Z3, A3, W1, W2, W3, X, Y):\n",
        "    one_hot_Y = one_hot(Y)\n",
        "    dZ3 = A3 - one_hot_Y\n",
        "    dW3 = 1 / m_train * dZ3.dot(A2.T)\n",
        "    db3 = 1 / m_train * np.sum(dZ3, axis=1, keepdims=True)\n",
        "\n",
        "    dZ2 = W3.T.dot(dZ3) * ReLU_deriv(Z2)\n",
        "    dW2 = 1 / m_train * dZ2.dot(A1.T)\n",
        "    db2 = 1 / m_train * np.sum(dZ2, axis=1, keepdims=True)\n",
        "\n",
        "    dZ1 = W2.T.dot(dZ2) * ReLU_deriv(Z1)\n",
        "    dW1 = 1 / m_train * dZ1.dot(X.T)\n",
        "    db1 = 1 / m_train * np.sum(dZ1, axis=1, keepdims=True)\n",
        "\n",
        "    return dW1, db1, dW2, db2, dW3, db3\n",
        "\n",
        "def update_params(W1, b1, W2, b2, W3, b3, dW1, db1, dW2, db2, dW3, db3, alpha):\n",
        "    W1 = W1 - alpha * dW1\n",
        "    b1 = b1 - alpha * db1\n",
        "    W2 = W2 - alpha * dW2\n",
        "    b2 = b2 - alpha * db2\n",
        "    W3 = W3 - alpha * dW3\n",
        "    b3 = b3 - alpha * db3\n",
        "    return W1, b1, W2, b2, W3, b3"
      ],
      "metadata": {
        "execution": {
          "iopub.status.busy": "2024-07-31T12:05:46.628952Z",
          "iopub.execute_input": "2024-07-31T12:05:46.629505Z",
          "iopub.status.idle": "2024-07-31T12:05:46.650543Z",
          "shell.execute_reply.started": "2024-07-31T12:05:46.629416Z",
          "shell.execute_reply": "2024-07-31T12:05:46.649367Z"
        },
        "trusted": true,
        "id": "f0rGpyeow2v5"
      },
      "execution_count": null,
      "outputs": []
    },
    {
      "cell_type": "code",
      "source": [
        "def get_predictions(A3):\n",
        "    return np.argmax(A3, 0)\n",
        "\n",
        "def get_accuracy(predictions, Y):\n",
        "    print(predictions, Y)\n",
        "    return np.sum(predictions == Y) / Y.size\n",
        "\n",
        "def gradient_descent(X, Y, alpha, iterations):\n",
        "    W1, b1, W2, b2, W3, b3 = init_params()\n",
        "    for i in range(iterations):\n",
        "        Z1, A1, Z2, A2, Z3, A3 = forward_prop(W1, b1, W2, b2, W3, b3, X)\n",
        "        dW1, db1, dW2, db2, dW3, db3 = backward_prop(Z1, A1, Z2, A2, Z3, A3, W1, W2, W3, X, Y)\n",
        "        W1, b1, W2, b2, W3, b3 = update_params(W1, b1, W2, b2, W3, b3, dW1, db1, dW2, db2, dW3, db3, alpha)\n",
        "        if i % 10 == 0:\n",
        "            predictions = get_predictions(A3)\n",
        "            accuracy = get_accuracy(predictions, Y)\n",
        "            print(f\"Iteration: {i}, Accuracy: {accuracy}\")\n",
        "    return W1, b1, W2, b2, W3, b3"
      ],
      "metadata": {
        "execution": {
          "iopub.status.busy": "2024-07-31T12:05:46.652193Z",
          "iopub.execute_input": "2024-07-31T12:05:46.652695Z",
          "iopub.status.idle": "2024-07-31T12:05:46.668111Z",
          "shell.execute_reply.started": "2024-07-31T12:05:46.652655Z",
          "shell.execute_reply": "2024-07-31T12:05:46.666725Z"
        },
        "trusted": true,
        "id": "FUq7_NMew2v7"
      },
      "execution_count": null,
      "outputs": []
    },
    {
      "cell_type": "code",
      "source": [
        "W1, b1, W2, b2, W3, b3 = gradient_descent(X_train, Y_train, 0.15, 500)"
      ],
      "metadata": {
        "execution": {
          "iopub.status.busy": "2024-07-31T12:15:48.563669Z",
          "iopub.execute_input": "2024-07-31T12:15:48.564058Z",
          "iopub.status.idle": "2024-07-31T12:20:16.790261Z",
          "shell.execute_reply.started": "2024-07-31T12:15:48.564029Z",
          "shell.execute_reply": "2024-07-31T12:20:16.788904Z"
        },
        "trusted": true,
        "id": "wuS72ZB8w2v9",
        "outputId": "1dac6e30-12c3-4987-b021-e77f3140115b"
      },
      "execution_count": null,
      "outputs": [
        {
          "name": "stdout",
          "text": "[0 0 5 ... 5 1 0] [9 0 8 ... 4 6 0]\nIteration: 0, Accuracy: 0.106425\n[4 0 5 ... 7 6 5] [9 0 8 ... 4 6 0]\nIteration: 10, Accuracy: 0.5334\n[9 0 5 ... 7 6 0] [9 0 8 ... 4 6 0]\nIteration: 20, Accuracy: 0.66065\n[9 0 5 ... 7 6 0] [9 0 8 ... 4 6 0]\nIteration: 30, Accuracy: 0.7233\n[9 0 5 ... 7 6 0] [9 0 8 ... 4 6 0]\nIteration: 40, Accuracy: 0.760625\n[9 0 5 ... 9 6 0] [9 0 8 ... 4 6 0]\nIteration: 50, Accuracy: 0.785775\n[9 0 5 ... 9 6 0] [9 0 8 ... 4 6 0]\nIteration: 60, Accuracy: 0.80535\n[9 0 5 ... 4 6 0] [9 0 8 ... 4 6 0]\nIteration: 70, Accuracy: 0.818325\n[9 0 5 ... 4 6 0] [9 0 8 ... 4 6 0]\nIteration: 80, Accuracy: 0.830425\n[9 0 5 ... 4 6 0] [9 0 8 ... 4 6 0]\nIteration: 90, Accuracy: 0.839975\n[9 0 8 ... 4 6 0] [9 0 8 ... 4 6 0]\nIteration: 100, Accuracy: 0.847525\n[9 0 8 ... 4 6 0] [9 0 8 ... 4 6 0]\nIteration: 110, Accuracy: 0.853775\n[9 0 8 ... 4 6 0] [9 0 8 ... 4 6 0]\nIteration: 120, Accuracy: 0.8597\n[9 0 8 ... 4 6 0] [9 0 8 ... 4 6 0]\nIteration: 130, Accuracy: 0.865475\n[9 0 8 ... 4 6 0] [9 0 8 ... 4 6 0]\nIteration: 140, Accuracy: 0.869925\n[9 0 8 ... 4 6 0] [9 0 8 ... 4 6 0]\nIteration: 150, Accuracy: 0.874225\n[9 0 8 ... 4 6 0] [9 0 8 ... 4 6 0]\nIteration: 160, Accuracy: 0.8787\n[9 0 8 ... 4 6 0] [9 0 8 ... 4 6 0]\nIteration: 170, Accuracy: 0.8823\n[9 0 8 ... 4 6 0] [9 0 8 ... 4 6 0]\nIteration: 180, Accuracy: 0.8855\n[9 0 8 ... 4 6 0] [9 0 8 ... 4 6 0]\nIteration: 190, Accuracy: 0.88895\n[9 0 8 ... 4 6 0] [9 0 8 ... 4 6 0]\nIteration: 200, Accuracy: 0.891775\n[9 0 8 ... 4 6 0] [9 0 8 ... 4 6 0]\nIteration: 210, Accuracy: 0.894175\n[9 0 8 ... 4 6 0] [9 0 8 ... 4 6 0]\nIteration: 220, Accuracy: 0.89645\n[9 0 8 ... 4 6 0] [9 0 8 ... 4 6 0]\nIteration: 230, Accuracy: 0.8988\n[9 0 8 ... 4 6 0] [9 0 8 ... 4 6 0]\nIteration: 240, Accuracy: 0.90075\n[9 0 8 ... 4 6 0] [9 0 8 ... 4 6 0]\nIteration: 250, Accuracy: 0.902775\n[9 0 8 ... 4 6 0] [9 0 8 ... 4 6 0]\nIteration: 260, Accuracy: 0.9049\n[9 0 8 ... 4 6 0] [9 0 8 ... 4 6 0]\nIteration: 270, Accuracy: 0.9068\n[9 0 8 ... 4 6 0] [9 0 8 ... 4 6 0]\nIteration: 280, Accuracy: 0.908925\n[9 0 8 ... 4 6 0] [9 0 8 ... 4 6 0]\nIteration: 290, Accuracy: 0.9103\n[9 0 8 ... 4 6 0] [9 0 8 ... 4 6 0]\nIteration: 300, Accuracy: 0.91175\n[9 0 8 ... 4 6 0] [9 0 8 ... 4 6 0]\nIteration: 310, Accuracy: 0.9135\n[9 0 8 ... 4 6 0] [9 0 8 ... 4 6 0]\nIteration: 320, Accuracy: 0.914675\n[9 0 8 ... 4 6 0] [9 0 8 ... 4 6 0]\nIteration: 330, Accuracy: 0.916375\n[9 0 8 ... 4 6 0] [9 0 8 ... 4 6 0]\nIteration: 340, Accuracy: 0.91765\n[9 0 8 ... 4 6 0] [9 0 8 ... 4 6 0]\nIteration: 350, Accuracy: 0.918375\n[9 0 8 ... 4 6 0] [9 0 8 ... 4 6 0]\nIteration: 360, Accuracy: 0.91945\n[9 0 8 ... 4 6 0] [9 0 8 ... 4 6 0]\nIteration: 370, Accuracy: 0.92055\n[9 0 8 ... 4 6 0] [9 0 8 ... 4 6 0]\nIteration: 380, Accuracy: 0.9214\n[9 0 8 ... 4 6 0] [9 0 8 ... 4 6 0]\nIteration: 390, Accuracy: 0.922425\n[9 0 8 ... 4 6 0] [9 0 8 ... 4 6 0]\nIteration: 400, Accuracy: 0.923575\n[9 0 8 ... 4 6 0] [9 0 8 ... 4 6 0]\nIteration: 410, Accuracy: 0.9246\n[9 0 8 ... 4 6 0] [9 0 8 ... 4 6 0]\nIteration: 420, Accuracy: 0.9257\n[9 0 8 ... 4 6 0] [9 0 8 ... 4 6 0]\nIteration: 430, Accuracy: 0.926425\n[9 0 8 ... 4 6 0] [9 0 8 ... 4 6 0]\nIteration: 440, Accuracy: 0.927225\n[9 0 8 ... 4 6 0] [9 0 8 ... 4 6 0]\nIteration: 450, Accuracy: 0.9282\n[9 0 8 ... 4 6 0] [9 0 8 ... 4 6 0]\nIteration: 460, Accuracy: 0.929025\n[9 0 8 ... 4 6 0] [9 0 8 ... 4 6 0]\nIteration: 470, Accuracy: 0.92985\n[9 0 8 ... 4 6 0] [9 0 8 ... 4 6 0]\nIteration: 480, Accuracy: 0.930625\n[9 0 8 ... 4 6 0] [9 0 8 ... 4 6 0]\nIteration: 490, Accuracy: 0.93145\n",
          "output_type": "stream"
        }
      ]
    },
    {
      "cell_type": "code",
      "source": [
        "def make_predictions(X, W1, b1, W2, b2, W3, b3):\n",
        "    _, _, _, _, _, A3 = forward_prop(W1, b1, W2, b2, W3, b3, X)\n",
        "    predictions = get_predictions(A3)\n",
        "    return predictions\n",
        "\n",
        "def test_prediction(index, W1, b1, W2, b2, W3, b3):\n",
        "    current_image = X_train[:, index, None]\n",
        "    prediction = make_predictions(X_train[:, index, None], W1, b1, W2, b2, W3, b3)\n",
        "    label = Y_train[index]\n",
        "    print(f\"Prediction: {prediction}, Label: {label}\")\n",
        "\n",
        "    current_image = current_image.reshape((28, 28)) * 255\n",
        "    plt.gray()\n",
        "    plt.imshow(current_image, interpolation='nearest')\n",
        "    plt.show()"
      ],
      "metadata": {
        "execution": {
          "iopub.status.busy": "2024-07-31T12:21:12.115272Z",
          "iopub.execute_input": "2024-07-31T12:21:12.115688Z",
          "iopub.status.idle": "2024-07-31T12:21:12.125727Z",
          "shell.execute_reply.started": "2024-07-31T12:21:12.115658Z",
          "shell.execute_reply": "2024-07-31T12:21:12.124176Z"
        },
        "trusted": true,
        "id": "FLwjSxCBw2v-"
      },
      "execution_count": null,
      "outputs": []
    },
    {
      "cell_type": "code",
      "source": [
        "test_prediction(4, W1, b1, W2, b2, W3, b3)\n",
        "test_prediction(9, W1, b1, W2, b2, W3, b3)\n",
        "test_prediction(1, W1, b1, W2, b2, W3, b3)\n",
        "test_prediction(3, W1, b1, W2, b2, W3, b3)"
      ],
      "metadata": {
        "execution": {
          "iopub.status.busy": "2024-07-31T12:23:42.343347Z",
          "iopub.execute_input": "2024-07-31T12:23:42.343783Z",
          "iopub.status.idle": "2024-07-31T12:23:43.478665Z",
          "shell.execute_reply.started": "2024-07-31T12:23:42.343749Z",
          "shell.execute_reply": "2024-07-31T12:23:43.477323Z"
        },
        "trusted": true,
        "id": "u-Qx9BAww2v_",
        "outputId": "48308569-7fd5-45b6-df8b-91d0533c95a4"
      },
      "execution_count": null,
      "outputs": [
        {
          "name": "stdout",
          "text": "Prediction: [4], Label: 4\n",
          "output_type": "stream"
        },
        {
          "output_type": "display_data",
          "data": {
            "text/plain": "<Figure size 640x480 with 1 Axes>",
            "image/png": "[encoded data removed]"
          },
          "metadata": {}
        },
        {
          "name": "stdout",
          "text": "Prediction: [9], Label: 9\n",
          "output_type": "stream"
        },
        {
          "output_type": "display_data",
          "data": {
            "text/plain": "<Figure size 640x480 with 1 Axes>",
            "image/png": "[encoded data removed]"
          },
          "metadata": {}
        },
        {
          "name": "stdout",
          "text": "Prediction: [0], Label: 0\n",
          "output_type": "stream"
        },
        {
          "output_type": "display_data",
          "data": {
            "text/plain": "<Figure size 640x480 with 1 Axes>",
            "image/png": "[encoded data removed]"
          },
          "metadata": {}
        },
        {
          "name": "stdout",
          "text": "Prediction: [3], Label: 7\n",
          "output_type": "stream"
        },
        {
          "output_type": "display_data",
          "data": {
            "text/plain": "<Figure size 640x480 with 1 Axes>",
            "image/png": "[encoded data removed]"
          },
          "metadata": {}
        }
      ]
    },
    {
      "cell_type": "code",
      "source": [
        "dev_predictions = make_predictions(X_dev, W1, b1, W2, b2, W3, b3)\n",
        "get_accuracy(dev_predictions, Y_dev)"
      ],
      "metadata": {
        "execution": {
          "iopub.status.busy": "2024-07-31T12:23:51.449437Z",
          "iopub.execute_input": "2024-07-31T12:23:51.449883Z",
          "iopub.status.idle": "2024-07-31T12:23:51.499914Z",
          "shell.execute_reply.started": "2024-07-31T12:23:51.449851Z",
          "shell.execute_reply": "2024-07-31T12:23:51.498499Z"
        },
        "trusted": true,
        "id": "SgZbZRCZw2wB",
        "outputId": "671853e9-d677-4d64-9f34-46571204a6e8"
      },
      "execution_count": null,
      "outputs": [
        {
          "name": "stdout",
          "text": "[0 6 3 ... 0 2 6] [0 6 3 ... 0 2 6]\n",
          "output_type": "stream"
        },
        {
          "execution_count": 50,
          "output_type": "execute_result",
          "data": {
            "text/plain": "0.916"
          },
          "metadata": {}
        }
      ]
    }
  ]
}